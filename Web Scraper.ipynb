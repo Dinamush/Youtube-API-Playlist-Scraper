{
 "cells": [
  {
   "cell_type": "code",
   "execution_count": 19,
   "id": "17e900de-34d6-4e69-9856-ce2434b9bdf9",
   "metadata": {},
   "outputs": [],
   "source": [
    "import requests\n",
    "import pandas as pd\n",
    "\n",
    "api_key = ''\n",
    "playlist_url = 'https://www.youtube.com/playlist?list=PLo_SUYz0eWM5jyhEPgDXjZZpLdkMBcuhU'\n",
    "\n",
    "# Function to get all items in a playlist using pagination\n",
    "def get_all_playlist_items(api_key, playlist_id):\n",
    "    all_items = []\n",
    "    next_page_token = None\n",
    "\n",
    "    while True:\n",
    "        params = {\n",
    "            'part': 'snippet',\n",
    "            'maxResults': 100,\n",
    "            'playlistId': playlist_id,\n",
    "            'key': api_key,\n",
    "            'pageToken': next_page_token,\n",
    "        }\n",
    "\n",
    "        response = requests.get('https://www.googleapis.com/youtube/v3/playlistItems', params=params)\n",
    "        data = response.json()\n",
    "\n",
    "        if 'items' in data:\n",
    "            all_items.extend(data['items'])\n",
    "\n",
    "        next_page_token = data.get('nextPageToken')\n",
    "\n",
    "        if not next_page_token:\n",
    "            break\n",
    "\n",
    "    return all_items\n",
    "\n",
    "# Extract all video information\n",
    "all_videos = get_all_playlist_items(api_key, playlist_url.split('list=')[-1])\n",
    "\n",
    "# Extract video information\n",
    "videos_info = []\n",
    "\n",
    "for item in all_videos:\n",
    "    video_info = {\n",
    "        'title': item['snippet']['title'],\n",
    "        'genre': item['snippet'].get('tags', []),\n",
    "        'upload_date': item['snippet']['publishedAt'],\n",
    "        'uploader': item['snippet']['channelTitle'],\n",
    "    }\n",
    "    videos_info.append(video_info)\n",
    "\n",
    "# Create a DataFrame from the list of video information\n",
    "df = pd.DataFrame(videos_info)\n",
    "\n",
    "df.to_csv('Song_titles.csv')\n"
   ]
  },
  {
   "cell_type": "code",
   "execution_count": 20,
   "id": "5647bed3-47b7-4cd3-a19a-133016e33e49",
   "metadata": {},
   "outputs": [
    {
     "name": "stdout",
     "output_type": "stream",
     "text": [
      "Playlist Creation Date: 2016-11-19T05:31:50Z\n"
     ]
    }
   ],
   "source": [
    "\n",
    "\n",
    "# Fetch the playlist information using the YouTube API\n",
    "playlist_api_url = 'https://www.googleapis.com/youtube/v3/playlists'\n",
    "playlist_params = {\n",
    "    'part': 'snippet',\n",
    "    'id': playlist_id,\n",
    "    'key': api_key,\n",
    "}\n",
    "\n",
    "playlist_response = requests.get(playlist_api_url, params=playlist_params)\n",
    "playlist_data = playlist_response.json()\n",
    "\n",
    "\n",
    "# Check if 'items' key exists in the playlist response\n",
    "if 'items' in playlist_data and playlist_data['items']:\n",
    "    # Extract playlist creation date\n",
    "    creation_date = playlist_data['items'][0]['snippet']['publishedAt']\n",
    "\n",
    "    # Print the playlist creation date\n",
    "    print(f\"Playlist Creation Date: {creation_date}\")\n",
    "else:\n",
    "    print(f\"No playlist information found. Check your request or try again later.\")\n"
   ]
  },
  {
   "cell_type": "code",
   "execution_count": null,
   "id": "ac5c2965-2aec-42df-a194-3296d3ffe0e2",
   "metadata": {},
   "outputs": [],
   "source": []
  }
 ],
 "metadata": {
  "kernelspec": {
   "display_name": "Python 3 (ipykernel)",
   "language": "python",
   "name": "python3"
  },
  "language_info": {
   "codemirror_mode": {
    "name": "ipython",
    "version": 3
   },
   "file_extension": ".py",
   "mimetype": "text/x-python",
   "name": "python",
   "nbconvert_exporter": "python",
   "pygments_lexer": "ipython3",
   "version": "3.10.9"
  }
 },
 "nbformat": 4,
 "nbformat_minor": 5
}
